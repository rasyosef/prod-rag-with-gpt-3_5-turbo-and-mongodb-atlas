{
  "nbformat": 4,
  "nbformat_minor": 0,
  "metadata": {
    "colab": {
      "provenance": []
    },
    "kernelspec": {
      "name": "python3",
      "display_name": "Python 3"
    },
    "language_info": {
      "name": "python"
    }
  },
  "cells": [
    {
      "cell_type": "markdown",
      "source": [
        "### **Setup**"
      ],
      "metadata": {
        "id": "cYnRIDsf0OzK"
      }
    },
    {
      "cell_type": "code",
      "execution_count": 1,
      "metadata": {
        "id": "7Y6NJxs2ySTR",
        "colab": {
          "base_uri": "https://localhost:8080/"
        },
        "outputId": "2c7aa027-b2e1-477b-df74-dc249962bbb2"
      },
      "outputs": [
        {
          "output_type": "stream",
          "name": "stdout",
          "text": [
            "\u001b[2K     \u001b[90m━━━━━━━━━━━━━━━━━━━━━━━━━━━━━━━━━━━━━━━━\u001b[0m \u001b[32m670.0/670.0 kB\u001b[0m \u001b[31m5.1 MB/s\u001b[0m eta \u001b[36m0:00:00\u001b[0m\n",
            "\u001b[2K     \u001b[90m━━━━━━━━━━━━━━━━━━━━━━━━━━━━━━━━━━━━━━━━\u001b[0m \u001b[32m15.4/15.4 MB\u001b[0m \u001b[31m30.2 MB/s\u001b[0m eta \u001b[36m0:00:00\u001b[0m\n",
            "\u001b[2K     \u001b[90m━━━━━━━━━━━━━━━━━━━━━━━━━━━━━━━━━━━━━━━━\u001b[0m \u001b[32m2.0/2.0 MB\u001b[0m \u001b[31m47.7 MB/s\u001b[0m eta \u001b[36m0:00:00\u001b[0m\n",
            "\u001b[2K     \u001b[90m━━━━━━━━━━━━━━━━━━━━━━━━━━━━━━━━━━━━━━━━\u001b[0m \u001b[32m307.7/307.7 kB\u001b[0m \u001b[31m20.5 MB/s\u001b[0m eta \u001b[36m0:00:00\u001b[0m\n",
            "\u001b[2K     \u001b[90m━━━━━━━━━━━━━━━━━━━━━━━━━━━━━━━━━━━━━━━━\u001b[0m \u001b[32m320.6/320.6 kB\u001b[0m \u001b[31m17.4 MB/s\u001b[0m eta \u001b[36m0:00:00\u001b[0m\n",
            "\u001b[2K     \u001b[90m━━━━━━━━━━━━━━━━━━━━━━━━━━━━━━━━━━━━━━━━\u001b[0m \u001b[32m75.6/75.6 kB\u001b[0m \u001b[31m4.5 MB/s\u001b[0m eta \u001b[36m0:00:00\u001b[0m\n",
            "\u001b[2K     \u001b[90m━━━━━━━━━━━━━━━━━━━━━━━━━━━━━━━━━━━━━━━━\u001b[0m \u001b[32m141.9/141.9 kB\u001b[0m \u001b[31m6.2 MB/s\u001b[0m eta \u001b[36m0:00:00\u001b[0m\n",
            "\u001b[2K     \u001b[90m━━━━━━━━━━━━━━━━━━━━━━━━━━━━━━━━━━━━━━━━\u001b[0m \u001b[32m1.1/1.1 MB\u001b[0m \u001b[31m31.1 MB/s\u001b[0m eta \u001b[36m0:00:00\u001b[0m\n",
            "\u001b[2K     \u001b[90m━━━━━━━━━━━━━━━━━━━━━━━━━━━━━━━━━━━━━━━━\u001b[0m \u001b[32m290.4/290.4 kB\u001b[0m \u001b[31m12.3 MB/s\u001b[0m eta \u001b[36m0:00:00\u001b[0m\n",
            "\u001b[2K     \u001b[90m━━━━━━━━━━━━━━━━━━━━━━━━━━━━━━━━━━━━━━━━\u001b[0m \u001b[32m49.6/49.6 kB\u001b[0m \u001b[31m2.2 MB/s\u001b[0m eta \u001b[36m0:00:00\u001b[0m\n",
            "\u001b[2K     \u001b[90m━━━━━━━━━━━━━━━━━━━━━━━━━━━━━━━━━━━━━━━━\u001b[0m \u001b[32m77.9/77.9 kB\u001b[0m \u001b[31m5.9 MB/s\u001b[0m eta \u001b[36m0:00:00\u001b[0m\n",
            "\u001b[2K     \u001b[90m━━━━━━━━━━━━━━━━━━━━━━━━━━━━━━━━━━━━━━━━\u001b[0m \u001b[32m58.3/58.3 kB\u001b[0m \u001b[31m3.9 MB/s\u001b[0m eta \u001b[36m0:00:00\u001b[0m\n",
            "\u001b[2K     \u001b[90m━━━━━━━━━━━━━━━━━━━━━━━━━━━━━━━━━━━━━━━━\u001b[0m \u001b[32m49.3/49.3 kB\u001b[0m \u001b[31m3.3 MB/s\u001b[0m eta \u001b[36m0:00:00\u001b[0m\n",
            "\u001b[?25h"
          ]
        }
      ],
      "source": [
        "! pip install --quiet llama-index pymongo llama-index-vector-stores-mongodb"
      ]
    },
    {
      "cell_type": "code",
      "source": [
        "import os\n",
        "from google.colab import userdata\n",
        "\n",
        "os.environ[\"OPENAI_API_KEY\"] = userdata.get(\"openai-api-key-2\")\n",
        "MONGO_URI = userdata.get(\"MONGO_URI\")"
      ],
      "metadata": {
        "id": "ctu83fS1EstN"
      },
      "execution_count": 18,
      "outputs": []
    },
    {
      "cell_type": "markdown",
      "source": [
        "### **OpenAI Embeddings**"
      ],
      "metadata": {
        "id": "WIpMj9mdCS5a"
      }
    },
    {
      "cell_type": "code",
      "source": [
        "from llama_index.embeddings.openai import OpenAIEmbedding\n",
        "\n",
        "embed_model = OpenAIEmbedding(\n",
        "    model=\"text-embedding-3-small\",\n",
        "    embed_batch_size=16,\n",
        ")"
      ],
      "metadata": {
        "id": "7LYxig13CxvY"
      },
      "execution_count": 19,
      "outputs": []
    },
    {
      "cell_type": "markdown",
      "source": [
        "### **MongoDB Atlas Vector Store**"
      ],
      "metadata": {
        "id": "tSl9ZUGCHoFl"
      }
    },
    {
      "cell_type": "code",
      "source": [
        "import pymongo\n",
        "from llama_index.vector_stores.mongodb import MongoDBAtlasVectorSearch\n",
        "from llama_index.core.indices import VectorStoreIndex\n",
        "\n",
        "mongodb_client = pymongo.MongoClient(MONGO_URI)"
      ],
      "metadata": {
        "id": "itM_6cQsFNu6"
      },
      "execution_count": 20,
      "outputs": []
    },
    {
      "cell_type": "code",
      "source": [
        "store = MongoDBAtlasVectorSearch(\n",
        "    mongodb_client=mongodb_client,\n",
        "    db_name=\"oppenheimer\",\n",
        "    collection_name=\"oppenheimer_wiki_chunks\",\n",
        "    index_name=\"vector_index\",\n",
        "    embedding_key=\"embedding\",\n",
        "  )"
      ],
      "metadata": {
        "id": "OumuArgpQeIS"
      },
      "execution_count": 21,
      "outputs": []
    },
    {
      "cell_type": "markdown",
      "source": [
        "### **Loading Index**"
      ],
      "metadata": {
        "id": "MvHYG_D3U5o1"
      }
    },
    {
      "cell_type": "code",
      "source": [
        "from llama_index.core import VectorStoreIndex\n",
        "\n",
        "index_loaded = VectorStoreIndex.from_vector_store(\n",
        "    vector_store=store,\n",
        "    embed_model=embed_model\n",
        ")"
      ],
      "metadata": {
        "id": "umy-pe9iShCZ"
      },
      "execution_count": 22,
      "outputs": []
    },
    {
      "cell_type": "markdown",
      "source": [
        "### **Query Engine**"
      ],
      "metadata": {
        "id": "q7x_GPQcOKA0"
      }
    },
    {
      "cell_type": "code",
      "source": [
        "from llama_index.llms.openai import OpenAI\n",
        "\n",
        "llm = OpenAI(\n",
        "    model=\"gpt-3.5-turbo-0125\",\n",
        "    temperature=0,\n",
        "    max_tokens=512\n",
        ")"
      ],
      "metadata": {
        "id": "7CzNjVngJsz2"
      },
      "execution_count": 23,
      "outputs": []
    },
    {
      "cell_type": "code",
      "source": [
        "query_engine = index_loaded.as_query_engine(llm=llm, streaming=True, similarity_top_k=3)"
      ],
      "metadata": {
        "id": "L_iGMe3GOkhj"
      },
      "execution_count": 24,
      "outputs": []
    },
    {
      "cell_type": "code",
      "source": [
        "streaming_response = query_engine.query(\"What's the name of the actor that played Lewis Strauss?\")\n",
        "for token in streaming_response.response_gen:\n",
        "  print(token, end=\"\")"
      ],
      "metadata": {
        "colab": {
          "base_uri": "https://localhost:8080/"
        },
        "id": "lnWLceLvOtLc",
        "outputId": "85104864-c728-4e22-d0e3-d0f1b982548f"
      },
      "execution_count": 25,
      "outputs": [
        {
          "output_type": "stream",
          "name": "stdout",
          "text": [
            "Robert Downey Jr."
          ]
        }
      ]
    },
    {
      "cell_type": "markdown",
      "source": [
        "### **Gradio Demo**"
      ],
      "metadata": {
        "id": "RSwZz_5km8b2"
      }
    },
    {
      "cell_type": "code",
      "source": [
        "! pip install --quiet gradio"
      ],
      "metadata": {
        "colab": {
          "base_uri": "https://localhost:8080/"
        },
        "id": "QsMjnUzMoKHi",
        "outputId": "4fed7dd2-728b-4a16-8139-5ecb5661d22c"
      },
      "execution_count": 26,
      "outputs": [
        {
          "output_type": "stream",
          "name": "stdout",
          "text": [
            "\u001b[2K     \u001b[90m━━━━━━━━━━━━━━━━━━━━━━━━━━━━━━━━━━━━━━━━\u001b[0m \u001b[32m12.3/12.3 MB\u001b[0m \u001b[31m82.8 MB/s\u001b[0m eta \u001b[36m0:00:00\u001b[0m\n",
            "\u001b[2K     \u001b[90m━━━━━━━━━━━━━━━━━━━━━━━━━━━━━━━━━━━━━━━━\u001b[0m \u001b[32m92.0/92.0 kB\u001b[0m \u001b[31m10.3 MB/s\u001b[0m eta \u001b[36m0:00:00\u001b[0m\n",
            "\u001b[?25h  Preparing metadata (setup.py) ... \u001b[?25l\u001b[?25hdone\n",
            "\u001b[2K     \u001b[90m━━━━━━━━━━━━━━━━━━━━━━━━━━━━━━━━━━━━━━━━\u001b[0m \u001b[32m315.9/315.9 kB\u001b[0m \u001b[31m29.8 MB/s\u001b[0m eta \u001b[36m0:00:00\u001b[0m\n",
            "\u001b[2K     \u001b[90m━━━━━━━━━━━━━━━━━━━━━━━━━━━━━━━━━━━━━━━━\u001b[0m \u001b[32m142.5/142.5 kB\u001b[0m \u001b[31m14.2 MB/s\u001b[0m eta \u001b[36m0:00:00\u001b[0m\n",
            "\u001b[2K     \u001b[90m━━━━━━━━━━━━━━━━━━━━━━━━━━━━━━━━━━━━━━━━\u001b[0m \u001b[32m8.7/8.7 MB\u001b[0m \u001b[31m88.5 MB/s\u001b[0m eta \u001b[36m0:00:00\u001b[0m\n",
            "\u001b[2K     \u001b[90m━━━━━━━━━━━━━━━━━━━━━━━━━━━━━━━━━━━━━━━━\u001b[0m \u001b[32m47.2/47.2 kB\u001b[0m \u001b[31m6.2 MB/s\u001b[0m eta \u001b[36m0:00:00\u001b[0m\n",
            "\u001b[2K     \u001b[90m━━━━━━━━━━━━━━━━━━━━━━━━━━━━━━━━━━━━━━━━\u001b[0m \u001b[32m60.8/60.8 kB\u001b[0m \u001b[31m7.3 MB/s\u001b[0m eta \u001b[36m0:00:00\u001b[0m\n",
            "\u001b[2K     \u001b[90m━━━━━━━━━━━━━━━━━━━━━━━━━━━━━━━━━━━━━━━━\u001b[0m \u001b[32m129.9/129.9 kB\u001b[0m \u001b[31m16.4 MB/s\u001b[0m eta \u001b[36m0:00:00\u001b[0m\n",
            "\u001b[2K     \u001b[90m━━━━━━━━━━━━━━━━━━━━━━━━━━━━━━━━━━━━━━━━\u001b[0m \u001b[32m71.9/71.9 kB\u001b[0m \u001b[31m8.5 MB/s\u001b[0m eta \u001b[36m0:00:00\u001b[0m\n",
            "\u001b[2K     \u001b[90m━━━━━━━━━━━━━━━━━━━━━━━━━━━━━━━━━━━━━━━━\u001b[0m \u001b[32m53.6/53.6 kB\u001b[0m \u001b[31m6.7 MB/s\u001b[0m eta \u001b[36m0:00:00\u001b[0m\n",
            "\u001b[2K     \u001b[90m━━━━━━━━━━━━━━━━━━━━━━━━━━━━━━━━━━━━━━━━\u001b[0m \u001b[32m341.4/341.4 kB\u001b[0m \u001b[31m33.7 MB/s\u001b[0m eta \u001b[36m0:00:00\u001b[0m\n",
            "\u001b[2K     \u001b[90m━━━━━━━━━━━━━━━━━━━━━━━━━━━━━━━━━━━━━━━━\u001b[0m \u001b[32m3.4/3.4 MB\u001b[0m \u001b[31m92.9 MB/s\u001b[0m eta \u001b[36m0:00:00\u001b[0m\n",
            "\u001b[2K     \u001b[90m━━━━━━━━━━━━━━━━━━━━━━━━━━━━━━━━━━━━━━━━\u001b[0m \u001b[32m1.3/1.3 MB\u001b[0m \u001b[31m62.4 MB/s\u001b[0m eta \u001b[36m0:00:00\u001b[0m\n",
            "\u001b[?25h  Building wheel for ffmpy (setup.py) ... \u001b[?25l\u001b[?25hdone\n",
            "\u001b[31mERROR: pip's dependency resolver does not currently take into account all the packages that are installed. This behaviour is the source of the following dependency conflicts.\n",
            "spacy 3.7.4 requires typer<0.10.0,>=0.3.0, but you have typer 0.12.3 which is incompatible.\n",
            "weasel 0.3.4 requires typer<0.10.0,>=0.3.0, but you have typer 0.12.3 which is incompatible.\u001b[0m\u001b[31m\n",
            "\u001b[0m"
          ]
        }
      ]
    },
    {
      "cell_type": "code",
      "source": [
        "import gradio as gr\n",
        "\n",
        "# Generates response using the question answering chain defined earlier\n",
        "def generate(query):\n",
        "\n",
        "  response = \"\"\n",
        "  streaming_response = query_engine.query(query)\n",
        "  for token in streaming_response.response_gen:\n",
        "    response += token\n",
        "    yield response\n",
        "\n",
        "with gr.Blocks() as demo:\n",
        "  gr.Markdown(\"\"\"\n",
        "  # Retrieval Augmented Generation with GPT 3.5 Turbo and MongoDB Atlas Vector Search: Question Answering demo\n",
        "  ### This demo uses the GPT 3.5 Turbo LLM and MongoDB Atlas Vector Search for fast and performant Retrieval Augmented Generation (RAG).\n",
        "  ### The context is the new Oppenheimer movie's entire wikipedia page. The movie came out very recently in July, 2023, so the GPT 3.5 turbo model is not aware of it.\n",
        "  Retrieval Augmented Generation (RAG) enables us to retrieve just the few small chunks of the document that are relevant to the our query and inject it into our prompt.\n",
        "  The model is then able to answer questions by incorporating knowledge from the newly provided document. RAG can be used with thousands of documents, but this demo is limited to just one txt file.\n",
        "  \"\"\")\n",
        "\n",
        "  gr.Markdown(\"## Enter your question\")\n",
        "  with gr.Row():\n",
        "    with gr.Column():\n",
        "      ques = gr.Textbox(label=\"Question\", placeholder=\"Enter text here\", lines=2)\n",
        "    with gr.Column():\n",
        "      ans = gr.Textbox(label=\"Answer\", lines=4, interactive=False)\n",
        "  with gr.Row():\n",
        "    with gr.Column():\n",
        "      btn = gr.Button(\"Submit\")\n",
        "    with gr.Column():\n",
        "      clear = gr.ClearButton([ques, ans])\n",
        "\n",
        "  btn.click(fn=generate, inputs=[ques], outputs=[ans])\n",
        "  examples = gr.Examples(\n",
        "        examples=[\n",
        "            \"Who portrayed J. Robert Oppenheimer in the new Oppenheimer movie?\",\n",
        "            \"In the plot of the movie, why did Lewis Strauss resent Robert Oppenheimer?\",\n",
        "            \"What happened while Oppenheimer was a student at the University of Cambridge?\",\n",
        "            \"How much money did the Oppenheimer movie make at the US and global box office?\",\n",
        "            \"What score did the Oppenheimer movie get on Rotten Tomatoes and Metacritic?\"\n",
        "        ],\n",
        "        inputs=[ques],\n",
        "    )\n",
        "\n",
        "demo.queue().launch()"
      ],
      "metadata": {
        "colab": {
          "base_uri": "https://localhost:8080/",
          "height": 646
        },
        "id": "6sXlXS7ynQ02",
        "outputId": "9c8b39c3-cb9e-49f3-c483-7af91e78f164"
      },
      "execution_count": 27,
      "outputs": [
        {
          "output_type": "stream",
          "name": "stdout",
          "text": [
            "Setting queue=True in a Colab notebook requires sharing enabled. Setting `share=True` (you can turn this off by setting `share=False` in `launch()` explicitly).\n",
            "\n",
            "Colab notebook detected. To show errors in colab notebook, set debug=True in launch()\n",
            "Running on public URL: https://515420f82297228991.gradio.live\n",
            "\n",
            "This share link expires in 72 hours. For free permanent hosting and GPU upgrades, run `gradio deploy` from Terminal to deploy to Spaces (https://huggingface.co/spaces)\n"
          ]
        },
        {
          "output_type": "display_data",
          "data": {
            "text/plain": [
              "<IPython.core.display.HTML object>"
            ],
            "text/html": [
              "<div><iframe src=\"https://515420f82297228991.gradio.live\" width=\"100%\" height=\"500\" allow=\"autoplay; camera; microphone; clipboard-read; clipboard-write;\" frameborder=\"0\" allowfullscreen></iframe></div>"
            ]
          },
          "metadata": {}
        },
        {
          "output_type": "execute_result",
          "data": {
            "text/plain": []
          },
          "metadata": {},
          "execution_count": 27
        }
      ]
    },
    {
      "cell_type": "markdown",
      "source": [
        "### **More Queries**"
      ],
      "metadata": {
        "id": "Gdzk-QgNU_1m"
      }
    },
    {
      "cell_type": "code",
      "source": [
        "streaming_response = query_engine.query(\"Which character did Matthias Schweighöfer play in the movie?\")\n",
        "streaming_response.print_response_stream()"
      ],
      "metadata": {
        "colab": {
          "base_uri": "https://localhost:8080/"
        },
        "id": "bRf8_n4fO208",
        "outputId": "70276d42-d82f-47d1-ffc3-ce09c0c8b6b2"
      },
      "execution_count": 28,
      "outputs": [
        {
          "output_type": "stream",
          "name": "stdout",
          "text": [
            "Werner Heisenberg"
          ]
        }
      ]
    },
    {
      "cell_type": "code",
      "source": [
        "streaming_response = query_engine.query(\"Who is Boris Pash?\")\n",
        "streaming_response.print_response_stream()"
      ],
      "metadata": {
        "id": "QO3jyLcRPZU-",
        "colab": {
          "base_uri": "https://localhost:8080/"
        },
        "outputId": "cdeed960-3e1f-4fea-f29d-79602348483e"
      },
      "execution_count": 29,
      "outputs": [
        {
          "output_type": "stream",
          "name": "stdout",
          "text": [
            "Boris Pash is a U.S. Army military intelligence officer and commander of the Alsos Mission."
          ]
        }
      ]
    },
    {
      "cell_type": "code",
      "source": [
        "streaming_response = query_engine.query(\"Why did Lewis Strauss have a grudge against J. Robert Oppenheimer?\")\n",
        "streaming_response.print_response_stream()"
      ],
      "metadata": {
        "colab": {
          "base_uri": "https://localhost:8080/"
        },
        "id": "vOQDB-5RK2rj",
        "outputId": "8cf7f9f9-d4a7-4dd3-aae5-a8a00347082a"
      },
      "execution_count": 30,
      "outputs": [
        {
          "output_type": "stream",
          "name": "stdout",
          "text": [
            "Lewis Strauss had a grudge against J. Robert Oppenheimer because Oppenheimer publicly humiliated him by dismissing his concerns about exporting radioisotopes and recommending negotiations with the Soviet Union after they successfully detonated their own bomb. Additionally, Strauss believed that Oppenheimer denigrated him during a conversation Oppenheimer had with Einstein in 1947."
          ]
        }
      ]
    },
    {
      "cell_type": "code",
      "source": [
        "streaming_response = query_engine.query(\"What happened while Oppenheimer was a student at Cambridge?\")\n",
        "streaming_response.print_response_stream()"
      ],
      "metadata": {
        "colab": {
          "base_uri": "https://localhost:8080/"
        },
        "id": "G_p69rMMKFVJ",
        "outputId": "948c2604-b830-408e-ffb6-c04e93a7c17f"
      },
      "execution_count": null,
      "outputs": [
        {
          "output_type": "stream",
          "name": "stdout",
          "text": [
            "Oppenheimer grappled with anxiety and homesickness while studying under experimental physicist Patrick Blackett at the Cavendish Laboratory in the University of Cambridge. Upset with Blackett's attitude, Oppenheimer left him a poisoned apple but later retrieved it. Niels Bohr recommended that Oppenheimer study theoretical physics at the University of Göttingen."
          ]
        }
      ]
    },
    {
      "cell_type": "code",
      "source": [
        "sources = streaming_response.source_nodes\n",
        "for node in sources:\n",
        "  print(node.text)\n",
        "  print(\"\\n\\n------------------------------------------\\n\\n\")"
      ],
      "metadata": {
        "colab": {
          "base_uri": "https://localhost:8080/"
        },
        "id": "j2d8n9ZUKN2h",
        "outputId": "9ff39082-916f-4e6a-ffca-a2e90ecf37dd"
      },
      "execution_count": null,
      "outputs": [
        {
          "output_type": "stream",
          "name": "stdout",
          "text": [
            "Its simultaneous release with Warner Bros.'s Barbie led to the Barbenheimer cultural phenomenon, which encouraged audiences to see both films as a double feature. The film grossed over $955 million worldwide, becoming the third-highest-grossing film of 2023, the highest-grossing World War II-related film, the highest-grossing biographical film, and the second-highest-grossing R-rated film. It received critical acclaim and numerous accolades, including five Golden Globe Awards, eight Critic's Choice Awards and received 13 British Academy Film Awards, including Best Film and was named one of the top-ten films of 2023 by the National Board of Review and the American Film Institute.\n",
            "\n",
            "Plot\n",
            "In 1926, 22-year-old doctoral student J. Robert Oppenheimer grapples with anxiety and homesickness while studying under experimental physicist Patrick Blackett at the Cavendish Laboratory in the University of Cambridge. Upset with Blackett's attitude, Oppenheimer leaves him a poisoned apple but later retrieves it. Visiting scientist Niels Bohr recommends that Oppenheimer instead study theoretical physics at the University of Göttingen.\n",
            "\n",
            "Oppenheimer completes his PhD there and meets fellow scientist Isidor Isaac Rabi. They later meet theoretical physicist Werner Heisenberg in Switzerland. Wanting to expand quantum physics research in the United States, Oppenheimer begins teaching at the University of California, Berkeley and the California Institute of Technology. He marries Katherine \"Kitty\" Puening, a biologist and ex-communist, and has an intermittent affair with Jean Tatlock, a troubled communist who later dies in an apparent suicide.\n",
            "\n",
            "In December 1938, nuclear fission is discovered, which Oppenheimer realizes could be weaponized. In 1942, during World War II, U.S. Army Colonel Leslie Groves recruits Oppenheimer as director of the Manhattan Project to develop an atomic bomb. Oppenheimer, who is Jewish, is mainly concerned that the German nuclear research program, led by Heisenberg, might yield a fission bomb for the Nazis.\n",
            "\n",
            "He assembles a scientific team that includes Rabi, Hans Bethe and Edward Teller at the Los Alamos Laboratory, and also collaborates with scientists Enrico Fermi, Leo Szilard and David L. Hill at the University of Chicago.\n",
            "\n",
            "\n",
            "------------------------------------------\n",
            "\n",
            "\n",
            "And I'm thrilled that it's a massive hit.\"[208]\n",
            "\n",
            "Accuracy and omissions\n",
            "While President Truman did have a portrait of José de San Martín, it did not arrive at the White House until October 29, 1946, more than a year after Truman's meeting with Oppenheimer.[209][210]\n",
            "The film was noted for its accuracy, with some scenes being taken word-for-word out of the book or real life events.[211] Many of the changes are small embellishments or changes from real life. For example, Oppenheimer was not as excited about his discovery of black holes as shown in the film, since he did not know how significant it would become; the study was indeed released on the same day Germany invaded Poland, as shown in the film. During the Trinity test, Donald Hornig had his hand on the kill switch for a faster reaction time, not near it as depicted in the film. Truman did call Oppenheimer a \"crybaby\", but in a letter to Dean Acheson one year later, not immediately after meeting Oppenheimer.[211][212]\n",
            "\n",
            "The scene where Oppenheimer poisons his professor's apple is based on accounts that Oppenheimer gave of the incident, but it is unclear whether it occurred in real life.[213] In the film, Oppenheimer is depicted as putting potassium cyanide in the apple before having a change of heart the next day, and then narrowly preventing the apple from being eaten. There is no evidence that Niels Bohr nearly ate the apple, or had any involvement in the incident.[211] Oppenheimer and Einstein were friends,[214] but the specific conversations which the film revolves around never happened.[211] Oppenheimer took his concerns about an unstoppable chain reaction to Arthur Compton, not Einstein.[211]\n",
            "\n",
            "In addition to their interpersonal conflicts, Strauss had another reason to undermine Oppenheimer's credibility by revoking his security clearance: Oppenheimer was opposed to further development of the hydrogen bomb by the United States. Scott Sagan describes the loss of Oppenheimer's influence as a possible constraint upon the nuclear arms race between the U.S. and the Soviet Union as a \"broader tragedy\" less clearly depicted in the film than the scientist's personal tragedy, but he called the production \"highly accurate\" otherwise for a Hollywood film.\n",
            "\n",
            "\n",
            "------------------------------------------\n",
            "\n",
            "\n",
            "Teller's calculations reveal an atomic detonation could trigger a catastrophic chain reaction that would ignite the atmosphere and destroy the world. After consulting with Albert Einstein, Oppenheimer concludes the chances are acceptably low. Teller attempts to leave the project after his proposal to construct a hydrogen bomb is rejected, but Oppenheimer convinces him to stay.\n",
            "\n",
            "Following Adolf Hitler's death in 1945, some Project scientists question the bomb's relevance through the Szilárd petition; Oppenheimer believes it would end the ongoing Pacific War and save lives. The Trinity test is successful, and President Harry S. Truman orders the atomic bombings of Hiroshima and Nagasaki, inducing Japan's surrender. Though publicly praised, Oppenheimer is haunted by the mass destruction and fatalities. He later meets Truman, and after explaining his personal guilt, Truman berates Oppenheimer as he considers himself responsible for the decision to use the bomb. Oppenheimer urges restricting further nuclear weapons development, which Truman dismisses.\n",
            "\n",
            "As an advisor to the United States Atomic Energy Commission (AEC), Oppenheimer's stance generates controversy, while Teller's hydrogen bomb receives renewed interest amidst the burgeoning Cold War. AEC Chairman Lewis Strauss resents Oppenheimer for having publicly humiliated him by dismissing his concerns about exporting radioisotopes and for recommending negotiations with the Soviet Union after they successfully detonated their own bomb. He also believes that Oppenheimer denigrated him during a conversation Oppenheimer had with Einstein in 1947.\n",
            "\n",
            "In 1954, wanting to eliminate Oppenheimer's political influence, Strauss secretly orchestrates a private security hearing before a Personnel Security Board concerning Oppenheimer's Q clearance. However, it becomes clear that the hearing has a predetermined outcome. Oppenheimer's past communist ties are exploited, and Groves' and other associates' testimony is twisted against him.\n",
            "\n",
            "Teller testifies that he lacks confidence in Oppenheimer and recommends revocation. The board revokes Oppenheimer's clearance, damaging his public image and limiting his influence on nuclear policy. In 1959, during Strauss' Senate confirmation hearing for Secretary of Commerce, Hill testifies about Strauss' personal motives in engineering Oppenheimer's downfall, resulting in the Senate voting against his nomination.\n",
            "\n",
            "\n",
            "------------------------------------------\n",
            "\n",
            "\n"
          ]
        }
      ]
    },
    {
      "cell_type": "code",
      "source": [],
      "metadata": {
        "id": "0vt9O07OfH12"
      },
      "execution_count": null,
      "outputs": []
    }
  ]
}